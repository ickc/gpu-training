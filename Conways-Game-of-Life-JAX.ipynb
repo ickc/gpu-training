{
 "cells": [
  {
   "cell_type": "code",
   "execution_count": null,
   "id": "17990974-87b3-4179-8718-aaef43d5dcb2",
   "metadata": {},
   "outputs": [],
   "source": [
    "import jax\n",
    "import jax.numpy as jnp\n",
    "import jax.scipy\n",
    "\n",
    "import numpy as np\n",
    "\n",
    "import matplotlib.pyplot as plt"
   ]
  },
  {
   "cell_type": "code",
   "execution_count": null,
   "id": "32a91cf7-133b-4318-b592-29ce5e22bfcf",
   "metadata": {},
   "outputs": [],
   "source": [
    "MASK = jnp.array([\n",
    "    [True, True, True],\n",
    "    [True, False, True],\n",
    "    [True, True, True],\n",
    "])"
   ]
  },
  {
   "cell_type": "code",
   "execution_count": null,
   "id": "58662551-3100-49d0-b38d-329b7c925bc0",
   "metadata": {},
   "outputs": [],
   "source": [
    "@jax.jit\n",
    "def next(state):\n",
    "    n_neighbors = jax.scipy.signal.convolve(state, MASK, mode=\"same\", precision=\"fastest\").astype(jnp.int8)\n",
    "    return (state & ((n_neighbors == 2) | (n_neighbors == 3))) | (~state & (n_neighbors == 3))"
   ]
  },
  {
   "cell_type": "raw",
   "id": "257d8b1a-61ce-43fe-8fbe-9ed82db305af",
   "metadata": {},
   "source": [
    "N = 10\n",
    "key = jax.random.PRNGKey(42)\n",
    "state = jax.random.bernoulli(key, p=0.5, shape=(N, N))"
   ]
  },
  {
   "cell_type": "code",
   "execution_count": null,
   "id": "9ea02632-9461-4837-93e2-6a16fce017fb",
   "metadata": {},
   "outputs": [],
   "source": [
    "state = jnp.array([\n",
    "    [0, 0, 0, 0, 0, 0, 0, 0, 0, 0, 0, 0, 0, 0, 0, 0, 0],\n",
    "    [0, 0, 0, 0, 0, 0, 0, 0, 0, 0, 0, 0, 0, 0, 0, 0, 0],\n",
    "    [0, 0, 0, 0, 1, 1, 1, 0, 0, 0, 1, 1, 1, 0, 0, 0, 0],\n",
    "    [0, 0, 0, 0, 0, 0, 0, 0, 0, 0, 0, 0, 0, 0, 0, 0, 0],\n",
    "    [0, 0, 1, 0, 0, 0, 0, 1, 0, 1, 0, 0, 0, 0, 1, 0, 0],\n",
    "    [0, 0, 1, 0, 0, 0, 0, 1, 0, 1, 0, 0, 0, 0, 1, 0, 0],\n",
    "    [0, 0, 1, 0, 0, 0, 0, 1, 0, 1, 0, 0, 0, 0, 1, 0, 0],\n",
    "    [0, 0, 0, 0, 1, 1, 1, 0, 0, 0, 1, 1, 1, 0, 0, 0, 0],\n",
    "    [0, 0, 0, 0, 0, 0, 0, 0, 0, 0, 0, 0, 0, 0, 0, 0, 0],\n",
    "    [0, 0, 0, 0, 1, 1, 1, 0, 0, 0, 1, 1, 1, 0, 0, 0, 0],\n",
    "    [0, 0, 1, 0, 0, 0, 0, 1, 0, 1, 0, 0, 0, 0, 1, 0, 0],\n",
    "    [0, 0, 1, 0, 0, 0, 0, 1, 0, 1, 0, 0, 0, 0, 1, 0, 0],\n",
    "    [0, 0, 1, 0, 0, 0, 0, 1, 0, 1, 0, 0, 0, 0, 1, 0, 0],\n",
    "    [0, 0, 0, 0, 0, 0, 0, 0, 0, 0, 0, 0, 0, 0, 0, 0, 0],\n",
    "    [0, 0, 0, 0, 1, 1, 1, 0, 0, 0, 1, 1, 1, 0, 0, 0, 0],\n",
    "    [0, 0, 0, 0, 0, 0, 0, 0, 0, 0, 0, 0, 0, 0, 0, 0, 0],\n",
    "    [0, 0, 0, 0, 0, 0, 0, 0, 0, 0, 0, 0, 0, 0, 0, 0, 0],\n",
    "], dtype=bool)"
   ]
  },
  {
   "cell_type": "code",
   "execution_count": null,
   "id": "4b01ba57-9665-437d-a032-4ae355498166",
   "metadata": {},
   "outputs": [],
   "source": [
    "states = [state]\n",
    "for _ in range(10):\n",
    "    state = next(state)\n",
    "    states.append(state)"
   ]
  },
  {
   "cell_type": "code",
   "execution_count": null,
   "id": "1e7e72bd-2797-492b-b136-ba6c457e2434",
   "metadata": {},
   "outputs": [],
   "source": [
    "np.testing.assert_array_equal(states[0], states[3])\n",
    "np.testing.assert_array_equal(states[1], states[4])\n",
    "np.testing.assert_array_equal(states[2], states[5])"
   ]
  },
  {
   "cell_type": "code",
   "execution_count": null,
   "id": "1e0d7675-34a4-4451-8756-09b1ecb15cd8",
   "metadata": {},
   "outputs": [],
   "source": [
    "for state in states:\n",
    "    plt.imshow(state)\n",
    "    plt.show()"
   ]
  }
 ],
 "metadata": {
  "jupytext": {
   "formats": "ipynb,py:percent"
  },
  "kernelspec": {
   "display_name": "gpu-training",
   "language": "python",
   "name": "gpu-training"
  },
  "language_info": {
   "codemirror_mode": {
    "name": "ipython",
    "version": 3
   },
   "file_extension": ".py",
   "mimetype": "text/x-python",
   "name": "python",
   "nbconvert_exporter": "python",
   "pygments_lexer": "ipython3",
   "version": "3.12.11"
  }
 },
 "nbformat": 4,
 "nbformat_minor": 5
}
